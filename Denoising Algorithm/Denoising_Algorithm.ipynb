{
  "nbformat": 4,
  "nbformat_minor": 0,
  "metadata": {
    "colab": {
      "name": "Denoising_Algorithm.ipynb",
      "provenance": []
    },
    "kernelspec": {
      "name": "python3",
      "display_name": "Python 3"
    },
    "language_info": {
      "name": "python"
    }
  },
  "cells": [
    {
      "cell_type": "code",
      "metadata": {
        "id": "1RFI9r-68xpL"
      },
      "source": [
        "'''\n",
        "    Denoising Algorithm\n",
        "'''\n",
        "#Importing openCV library\n",
        "import cv2 as cv\n",
        "from google.colab.patches import cv2_imshow\n",
        "\n",
        "#Taking path of input from the user\n",
        "path=input(\"Enter the path of image: \")\n",
        "img=cv.imread(path)\n",
        "img=cv.resize(img,(640,640))  #resizing the image\n",
        "\n",
        "#Display the input image\n",
        "cv2_imshow(img)\n",
        "\n",
        "#Excueting the Denoising Algorithm\n",
        "dst = cv.fastNlMeansDenoisingColored(img,None,10,10,7,21)\n",
        "cv2_imshow(dst)\n"
      ],
      "execution_count": null,
      "outputs": []
    },
    {
      "cell_type": "code",
      "metadata": {
        "id": "4SHz7FVx9JAj"
      },
      "source": [
        ""
      ],
      "execution_count": null,
      "outputs": []
    }
  ]
}