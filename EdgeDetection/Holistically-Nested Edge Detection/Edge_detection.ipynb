{
 "cells": [
  {
   "cell_type": "code",
   "execution_count": 2,
   "metadata": {},
   "outputs": [],
   "source": [
    "import cv2 as cv\n",
    "\n",
    "import numpy as np\n",
    "import matplotlib.pyplot as plt"
   ]
  },
  {
   "cell_type": "code",
   "execution_count": 3,
   "metadata": {},
   "outputs": [],
   "source": [
    "class CropLayer(object):\n",
    "    def __init__(self, params, blobs):\n",
    "        self.xstart = 0\n",
    "        self.xend = 0\n",
    "        self.ystart = 0\n",
    "        self.yend = 0\n",
    "\n",
    "    # Our layer receives two inputs. We need to crop the first input blob\n",
    "    # to match a shape of the second one (keeping batch size and number of channels)\n",
    "    def getMemoryShapes(self, inputs):\n",
    "        inputShape, targetShape = inputs[0], inputs[1]\n",
    "        batchSize, numChannels = inputShape[0], inputShape[1]\n",
    "        height, width = targetShape[2], targetShape[3]\n",
    "\n",
    "        self.ystart = int((inputShape[2] - targetShape[2]) / 2)\n",
    "        self.xstart = int((inputShape[3] - targetShape[3]) / 2)\n",
    "        self.yend = self.ystart + height\n",
    "        self.xend = self.xstart + width\n",
    "\n",
    "        return [[batchSize, numChannels, height, width]]\n",
    "\n",
    "    def forward(self, inputs):\n",
    "        return [inputs[0][:,:,self.ystart:self.yend,self.xstart:self.xend]]\n"
   ]
  },
  {
   "cell_type": "code",
   "execution_count": 6,
   "metadata": {},
   "outputs": [],
   "source": [
    "# Loading the model\n",
    "\n",
    "prototxt = \"deploy.prototxt\"\n",
    "caffemodel = \"hed_pretrained_bsds.caffemodel\"\n",
    "net = cv.dnn.readNetFromCaffe(prototxt, caffemodel)\n",
    "cv.dnn_registerLayer('Crop', CropLayer)"
   ]
  },
  {
   "cell_type": "code",
   "execution_count": 7,
   "metadata": {},
   "outputs": [],
   "source": [
    "# Reading the image \n",
    "path = \"input.jpg\"\n",
    "width = 500\n",
    "height = 500\n",
    "\n",
    "image=cv.imread(path)\n",
    "image=cv.resize(image,(width,height))"
   ]
  },
  {
   "cell_type": "code",
   "execution_count": 8,
   "metadata": {},
   "outputs": [],
   "source": [
    "inp = cv.dnn.blobFromImage(image, scalefactor=1.0, size=(width, height),\n",
    "                           mean=(104.00698793, 116.66876762, 122.67891434),\n",
    "                           swapRB=False, crop=False)\n",
    "net.setInput(inp)\n",
    "# edges = cv.Canny(image,image.shape[1],image.shape[0])\n",
    "out = net.forward()\n",
    "\n",
    "out = out[0, 0]\n",
    "out = cv.resize(out, (image.shape[1], image.shape[0]))\n"
   ]
  },
  {
   "cell_type": "code",
   "execution_count": 9,
   "metadata": {},
   "outputs": [
    {
     "name": "stdout",
     "output_type": "stream",
     "text": [
      "(500, 500)\n"
     ]
    }
   ],
   "source": [
    "print(out.shape)"
   ]
  },
  {
   "cell_type": "code",
   "execution_count": 10,
   "metadata": {},
   "outputs": [],
   "source": [
    "out=cv.cvtColor(out,cv.COLOR_GRAY2BGR)\n",
    "out = 255 * out\n",
    "out = out.astype(np.uint8)"
   ]
  },
  {
   "cell_type": "code",
   "execution_count": 11,
   "metadata": {},
   "outputs": [
    {
     "name": "stdout",
     "output_type": "stream",
     "text": [
      "<class 'numpy.ndarray'>\n",
      "235\n",
      "0\n",
      "(500, 500, 3)\n",
      "(500, 500, 3)\n"
     ]
    },
    {
     "data": {
      "text/plain": [
       "True"
      ]
     },
     "execution_count": 11,
     "metadata": {},
     "output_type": "execute_result"
    }
   ],
   "source": [
    "print(type(out))\n",
    "print(np.max(out))\n",
    "print(np.min(out))\n",
    "print(out.shape)\n",
    "print(image.shape)\n",
    "con=np.concatenate((image,out),axis=1)\n",
    "cv.imwrite('out.jpg',con)"
   ]
  },
  {
   "cell_type": "markdown",
   "metadata": {},
   "source": []
  }
 ],
 "metadata": {
  "kernelspec": {
   "display_name": "Python 3",
   "language": "python",
   "name": "python3"
  },
  "language_info": {
   "codemirror_mode": {
    "name": "ipython",
    "version": 3
   },
   "file_extension": ".py",
   "mimetype": "text/x-python",
   "name": "python",
   "nbconvert_exporter": "python",
   "pygments_lexer": "ipython3",
   "version": "3.6.5"
  }
 },
 "nbformat": 4,
 "nbformat_minor": 2
}
