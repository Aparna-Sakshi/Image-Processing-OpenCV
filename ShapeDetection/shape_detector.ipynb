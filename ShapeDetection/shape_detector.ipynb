{
  "nbformat": 4,
  "nbformat_minor": 0,
  "metadata": {
    "colab": {
      "name": "shape_detector.ipynb",
      "provenance": []
    },
    "kernelspec": {
      "name": "python3",
      "display_name": "Python 3"
    },
    "language_info": {
      "name": "python"
    }
  },
  "cells": [
    {
      "cell_type": "markdown",
      "metadata": {
        "id": "xtRdU9VJ1qZN"
      },
      "source": [
        "# Import Modules"
      ]
    },
    {
      "cell_type": "code",
      "metadata": {
        "id": "D2XfHAwFqa8b"
      },
      "source": [
        "import numpy as np\n",
        "import cv2\n",
        "from google.colab.patches import cv2_imshow"
      ],
      "execution_count": null,
      "outputs": []
    },
    {
      "cell_type": "markdown",
      "metadata": {
        "id": "xiXLlcxL2BWs"
      },
      "source": [
        "# Load Image and convert it to grayscale"
      ]
    },
    {
      "cell_type": "code",
      "metadata": {
        "id": "9IYzLLvSqipc"
      },
      "source": [
        "# Image is loaded using cv2.imread() method.\n",
        "'''\n",
        "syntax : cv2.imread(path,flag)\n",
        "Parameters:\n",
        "  path - string representing the path of the image to be read.\n",
        "  flag - specifies the way, image should be read.\n",
        "'''\n",
        "img=cv2.imread(\"different_shapes.jpg\")\n",
        "image=cv2.cvtColor(img,cv2.COLOR_BGR2GRAY)"
      ],
      "execution_count": null,
      "outputs": []
    },
    {
      "cell_type": "markdown",
      "metadata": {
        "id": "BpNyU7uG2Lcn"
      },
      "source": [
        "# Apply threshold and find contours"
      ]
    },
    {
      "cell_type": "code",
      "metadata": {
        "id": "TDZvAMXzq9bo"
      },
      "source": [
        "# converting image to binary image. (black and white only)\n",
        "_,thresh= cv2.threshold(image,240,255,cv2.THRESH_BINARY)\n",
        "\n",
        "# Detecting contours in image.\n",
        "contours,_=cv2.findContours(thresh,cv2.RETR_TREE,cv2.CHAIN_APPROX_NONE) "
      ],
      "execution_count": null,
      "outputs": []
    },
    {
      "cell_type": "markdown",
      "metadata": {
        "id": "t-ShVbyA2V85"
      },
      "source": [
        "# Detect the type of shape"
      ]
    },
    {
      "cell_type": "code",
      "metadata": {
        "id": "L2KEbGBrrsuW"
      },
      "source": [
        "# shape is detected using cv2.approxPolyDP() method,which approximates a curve or a polygon with another curve/polygon with less vertices so that \n",
        "# the distance between them is less or equal to the specified precision. It uses the Douglas-Peucker algorithm.\n",
        "'''\n",
        "syntax : cv2.approxPolyDP(curve, epsilon, closed[, approxCurve])\n",
        "Parameters : \n",
        "  curve - Input vector\n",
        "  epsilon - specify the approximation accuracy\n",
        "  approxCurve - Result of the approximation. The type should match the type of the input curve.\n",
        "'''\n",
        "\n",
        "for contour in contours:\n",
        "  Approx=cv2.approxPolyDP(contour,0.01*cv2.arcLength(contour,True),True)\n",
        "\n",
        "  #draws boundary of the contours\n",
        "  cv2.drawContours(img,[Approx],0,(255,255,255),6)\n",
        "\n",
        "  x=Approx.ravel()[0]\n",
        "  y=Approx.ravel()[1]\n",
        "  \n",
        "  if(len(Approx)==3):\n",
        "    cv2.putText(img,\"Triangle\",(x,y),cv2.FONT_HERSHEY_COMPLEX_SMALL,0.5,(0,0,0))\n",
        "  elif(len(Approx)==4):\n",
        "    cv2.putText(img,\"Quadrilateral\",(x,y),cv2.FONT_HERSHEY_COMPLEX_SMALL,0.5,(0,0,0))\n",
        "  elif(len(Approx)==5):\n",
        "    cv2.putText(img,\"pentagon\",(x,y),cv2.FONT_HERSHEY_COMPLEX_SMALL,0.5,(0,0,0))\n",
        "  elif(len(Approx)==6):\n",
        "    cv2.putText(img,\"Hexagon\",(x,y),cv2.FONT_HERSHEY_COMPLEX_SMALL,0.5,(0,0,0))\n",
        "  elif(len(Approx)==8):\n",
        "    cv2.putText(img,\"octagon\",(x,y),cv2.FONT_HERSHEY_COMPLEX_SMALL,0.5,(0,0,0))\n",
        "  elif(len(Approx)==10):\n",
        "    cv2.putText(img,\"star\",(x,y),cv2.FONT_HERSHEY_COMPLEX_SMALL,0.5,(0,0,0))\n",
        "  else:\n",
        "    cv2.putText(img,\"circle\",(x,y),cv2.FONT_HERSHEY_COMPLEX_SMALL,0.5,(0,0,0))"
      ],
      "execution_count": null,
      "outputs": []
    },
    {
      "cell_type": "markdown",
      "metadata": {
        "id": "wpedSkIW2dvj"
      },
      "source": [
        "# Display Final shape"
      ]
    },
    {
      "cell_type": "code",
      "metadata": {
        "colab": {
          "base_uri": "https://localhost:8080/",
          "height": 409
        },
        "id": "nfKgOKgzv8vn",
        "outputId": "ab12e6c8-990a-4b62-a19e-286c06c89667"
      },
      "source": [
        "cv2_imshow(img)"
      ],
      "execution_count": null,
      "outputs": [
        {
          "output_type": "display_data",
          "data": {
            "image/png": "[encoded data removed]",
            "text/plain": [
              "<PIL.Image.Image image mode=RGB size=392x392 at 0x7F682097D4D0>"
            ]
          },
          "metadata": {
            "tags": []
          }
        }
      ]
    }
  ]
}