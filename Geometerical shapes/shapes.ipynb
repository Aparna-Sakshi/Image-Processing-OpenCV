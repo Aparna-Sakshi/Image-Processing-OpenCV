{
  "nbformat": 4,
  "nbformat_minor": 0,
  "metadata": {
    "colab": {
      "name": "shapes.ipynb",
      "provenance": [],
      "collapsed_sections": []
    },
    "kernelspec": {
      "name": "python3",
      "display_name": "Python 3"
    },
    "language_info": {
      "name": "python"
    }
  },
  "cells": [
    {
      "cell_type": "markdown",
      "metadata": {
        "id": "kEYnWVn0db4N"
      },
      "source": [
        "# **Drawing lines in OpenCV**"
      ]
    },
    {
      "cell_type": "code",
      "metadata": {
        "colab": {
          "base_uri": "https://localhost:8080/",
          "height": 334
        },
        "id": "qgHxVTFadzzm",
        "outputId": "86dc5071-c3ec-40cf-e62f-4a10adb90a5c"
      },
      "source": [
        "import numpy as np\n",
        "import cv2\n",
        "from google.colab.patches import cv2_imshow\n",
        "\n",
        "canvas = np.zeros((300,300,3), dtype = \"uint8\")\n",
        "green = (0, 255, 0)\n",
        "cv2.line(canvas, (0,0), (300, 300), green)\n",
        "cv2_imshow(canvas)\n",
        "cv2.waitKey(0)\n"
      ],
      "execution_count": 16,
      "outputs": [
        {
          "output_type": "display_data",
          "data": {
            "image/png": "[encoded data removed]",
            "text/plain": [
              "<PIL.Image.Image image mode=RGB size=300x300 at 0x7F112C0D9050>"
            ]
          },
          "metadata": {
            "tags": []
          }
        },
        {
          "output_type": "execute_result",
          "data": {
            "text/plain": [
              "-1"
            ]
          },
          "metadata": {
            "tags": []
          },
          "execution_count": 16
        }
      ]
    },
    {
      "cell_type": "markdown",
      "metadata": {
        "id": "-q1O8jzkewTW"
      },
      "source": [
        "# **Drawing rectangles in OpenCV**"
      ]
    },
    {
      "cell_type": "code",
      "metadata": {
        "colab": {
          "base_uri": "https://localhost:8080/",
          "height": 317
        },
        "id": "CTG3gWqUe1g-",
        "outputId": "b48ffa44-8ef2-4673-e705-fd4b702073ab"
      },
      "source": [
        "import numpy as np\n",
        "import cv2\n",
        "from google.colab.patches import cv2_imshow\n",
        "\n",
        "canvas = np.zeros((300,300,3), dtype = \"uint8\")\n",
        "green = (0, 255, 0)\n",
        "cv2.rectangle(canvas, (80,80), (220,220), green)\n",
        "cv2_imshow(canvas)"
      ],
      "execution_count": 7,
      "outputs": [
        {
          "output_type": "display_data",
          "data": {
            "image/png": "[encoded data removed]",
            "text/plain": [
              "<PIL.Image.Image image mode=RGB size=300x300 at 0x7F11303F9310>"
            ]
          },
          "metadata": {
            "tags": []
          }
        }
      ]
    },
    {
      "cell_type": "markdown",
      "metadata": {
        "id": "EdKRdXQkfUP7"
      },
      "source": [
        "# **Drawing circles in OpenCV**"
      ]
    },
    {
      "cell_type": "code",
      "metadata": {
        "colab": {
          "base_uri": "https://localhost:8080/",
          "height": 334
        },
        "id": "yDi326QUfiqT",
        "outputId": "9f32b186-fc20-4718-ddcc-306a7a7f224b"
      },
      "source": [
        "import numpy as np\n",
        "import cv2\n",
        "from google.colab.patches import cv2_imshow\n",
        "\n",
        "canvas = np.zeros((300,300,3), dtype = \"uint8\")\n",
        "white = (255, 255, 255)\n",
        "(centerX, centerY) = (canvas.shape[1]//2, canvas.shape[0]//2)\n",
        "cv2.circle(canvas, (centerX, centerY), 100, white)\n",
        "cv2_imshow(canvas)\n",
        "cv2.waitKey(0)"
      ],
      "execution_count": 8,
      "outputs": [
        {
          "output_type": "display_data",
          "data": {
            "image/png": "[encoded data removed]",
            "text/plain": [
              "<PIL.Image.Image image mode=RGB size=300x300 at 0x7F112C2E81D0>"
            ]
          },
          "metadata": {
            "tags": []
          }
        },
        {
          "output_type": "execute_result",
          "data": {
            "text/plain": [
              "-1"
            ]
          },
          "metadata": {
            "tags": []
          },
          "execution_count": 8
        }
      ]
    },
    {
      "cell_type": "markdown",
      "metadata": {
        "id": "CHDf6k_hgTYr"
      },
      "source": [
        "# **Drawing concentric circles in openCV**"
      ]
    },
    {
      "cell_type": "code",
      "metadata": {
        "colab": {
          "base_uri": "https://localhost:8080/",
          "height": 334
        },
        "id": "oaKSQozrgYeH",
        "outputId": "c2dd2f5c-e5a2-4cd5-93ff-81c717db715a"
      },
      "source": [
        "import numpy as np\n",
        "import cv2\n",
        "from google.colab.patches import cv2_imshow\n",
        "\n",
        "canvas = np.zeros((300,300,3), dtype = \"uint8\")\n",
        "white = (255, 255, 255)\n",
        "(centerX, centerY) = (canvas.shape[1]//2, canvas.shape[0]//2)\n",
        "for r in range(0, 175, 25):\n",
        "  cv2.circle(canvas, (centerX, centerY), r, white)\n",
        "cv2_imshow(canvas)\n",
        "cv2.waitKey(0)\n"
      ],
      "execution_count": 9,
      "outputs": [
        {
          "output_type": "display_data",
          "data": {
            "image/png": "[encoded data removed]",
            "text/plain": [
              "<PIL.Image.Image image mode=RGB size=300x300 at 0x7F112C2A7350>"
            ]
          },
          "metadata": {
            "tags": []
          }
        },
        {
          "output_type": "execute_result",
          "data": {
            "text/plain": [
              "-1"
            ]
          },
          "metadata": {
            "tags": []
          },
          "execution_count": 9
        }
      ]
    },
    {
      "cell_type": "markdown",
      "metadata": {
        "id": "t6ZtcoIygv7Q"
      },
      "source": [
        "# **Drawing random colorful circles in openCV**"
      ]
    },
    {
      "cell_type": "code",
      "metadata": {
        "colab": {
          "base_uri": "https://localhost:8080/",
          "height": 334
        },
        "id": "gxm7NIOQg5BM",
        "outputId": "5e13150d-5201-4888-98ac-821e4acfb2c4"
      },
      "source": [
        "import numpy as np\n",
        "import cv2\n",
        "from google.colab.patches import cv2_imshow\n",
        "\n",
        "canvas = np.zeros((300,300,3), dtype = \"uint8\")\n",
        "for i in range(0, 25):\n",
        "  radius = np.random.randint(5, high = 200)\n",
        "  color = np.random.randint(0, high = 256, size = (3,))\n",
        "  pt = np.random.randint(0, high = 300, size = (2,))\n",
        "  \n",
        "  color = ( int (color [ 0 ]), int (color [ 1 ]), int (color [ 2 ])) \n",
        "  cv2.circle(canvas, tuple(pt), radius, tuple(color), -1)\n",
        "cv2_imshow(canvas)\n",
        "cv2.waitKey(0)\n"
      ],
      "execution_count": 15,
      "outputs": [
        {
          "output_type": "display_data",
          "data": {
            "image/png": "[encoded data removed]",
            "text/plain": [
              "<PIL.Image.Image image mode=RGB size=300x300 at 0x7F112C2E8050>"
            ]
          },
          "metadata": {
            "tags": []
          }
        },
        {
          "output_type": "execute_result",
          "data": {
            "text/plain": [
              "-1"
            ]
          },
          "metadata": {
            "tags": []
          },
          "execution_count": 15
        }
      ]
    },
    {
      "cell_type": "code",
      "metadata": {
        "id": "hftsQeaXg2p7"
      },
      "source": [
        ""
      ],
      "execution_count": null,
      "outputs": []
    }
  ]
}